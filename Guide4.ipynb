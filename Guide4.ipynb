{
 "cells": [
  {
   "cell_type": "markdown",
   "id": "81c6fe27-edf6-4328-b3a2-b3f0b0f51b35",
   "metadata": {},
   "source": [
    "## 1. import 키워드로 필수 라이브러리 불러오기\n",
    "#### ※ 라이브러리 : 자주 쓰이는 기능들을 미리 만들어놓고 필요할 때 마다 가져다 쓸 수 있게 만든 것\n",
    "    - numpy\n",
    "      - 길어질 수 있는 코드들을 짧게 해결해주는 라이브러리\n",
    "    - pandas\n",
    "      - 파이썬에서 엑셀 관련 작업을 할 수 있게 해주는 라이브러리\n",
    "    - math\n",
    "      - 수학 관련 함수를 추가해주는 라이브러리 (반올림, sin, cos 등등)\n",
    "    - xlwings\n",
    "      - 보안프로그램으로 인해 파이썬이 직접 엑셀파일을 열어 데이터를 불러오게하는 라이브러리\n",
    "      "
   ]
  },
  {
   "cell_type": "code",
   "execution_count": null,
   "id": "74f1b216-fdae-49c7-877d-2a186ce6d539",
   "metadata": {},
   "outputs": [],
   "source": [
    "import numpy as np\n",
    "import pandas as pd\n",
    "import math\n",
    "import xlwings as xw"
   ]
  },
  {
   "cell_type": "markdown",
   "id": "96f61301-3f1a-4443-93d0-5d2a4f63bb87",
   "metadata": {},
   "source": [
    "## 2. 엑셀 불러오기\n",
    "- xw.Book('input.xlsx')\n",
    "  - input.xlsx 파일을 불러와 book 변수에 저장합니다.\n",
    "- book.sheets[0]\n",
    "  - input.xslx의 **0번째 시트**데이터를 sheet에 저장합니다.\n",
    "- sheet.used_range.options(pd.DataFrame, index=False).value\n",
    "  - **0번째 시트**데이터를 파이썬에서 작업할 수 있도록 Pandas의 DataFrame으로 변환해주는 역할을 합니다.\n",
    "- book.close()\n",
    "  - input.xlsx 파일을 닫아줍니다."
   ]
  },
  {
   "cell_type": "code",
   "execution_count": null,
   "id": "2d88ffb3-221c-408d-baea-9b743df35212",
   "metadata": {},
   "outputs": [],
   "source": [
    "#### 약 5초 소요\n",
    "input(\"[정보] input.xlsx 파일을 불러옵니다. 파일이 준비되어 있으면 Enter키를 눌러주세요.\")\n",
    "book = xw.Book('input.xlsx')\n",
    "sheet = book.sheets[0]\n",
    "target = sheet.used_range.options(pd.DataFrame, index=False).value\n",
    "book.close()\n",
    "print(\"[정보] input.xlsx 파일을 불러왔습니다.\")"
   ]
  },
  {
   "cell_type": "markdown",
   "id": "4fe36945-dfc2-461b-bcfd-2dd05c5c0e67",
   "metadata": {},
   "source": [
    "## 3. head(n)을 통해 맨 위에서 n개 만큼 불러오기\n",
    "현재 pandas 타입의 변수는 target이고, target.head(1)을 하면 상단에 있는 열 1개를 가져와 보여주게 됩니다."
   ]
  },
  {
   "cell_type": "code",
   "execution_count": null,
   "id": "e2263ece-7924-4f96-8b61-782d5c8cfb36",
   "metadata": {},
   "outputs": [],
   "source": [
    "target.head(1)"
   ]
  },
  {
   "cell_type": "markdown",
   "id": "9016e724-8573-4a3a-90b5-d21c4b25f673",
   "metadata": {},
   "source": [
    "## 4. 고객명 + 생일 을 합친 열 추가하기\n",
    "정상적인 고객명은 '에_윤용권_720403'으로 볼 수 있습니다.\n",
    "\n",
    "\n",
    "고객명을 '윤용권720403'으로 편집하고 싶으면, target['고객명'].str.split(\"_\")을 이용할 수 있습니다."
   ]
  },
  {
   "cell_type": "code",
   "execution_count": null,
   "id": "6ddf6f01-7f99-4577-8e16-cad450e241f0",
   "metadata": {},
   "outputs": [],
   "source": [
    "print(target['고객명'].str.split(\"_\"))"
   ]
  },
  {
   "cell_type": "markdown",
   "id": "7dbd5c34-1a65-4e87-a5b4-f4a663620887",
   "metadata": {},
   "source": [
    "[에, 윤용권, 720403]인 리스트로 출력되는걸 확인할 수 있고, 1번 인덱스와 2번 인덱스를 합치면 될 것으로 보입니다.\n",
    "\n",
    "Pandas에서는 target['열 이름']을 통해 기존에 존재하는 모든 열 데이터를 가져올 수 있습니다."
   ]
  },
  {
   "cell_type": "code",
   "execution_count": null,
   "id": "f4200e28-c00b-4ee2-8dca-3c9f8b2bac1e",
   "metadata": {},
   "outputs": [],
   "source": [
    "target['고객명'].head()"
   ]
  },
  {
   "cell_type": "markdown",
   "id": "109b87f4-78da-4631-909d-7a2d4d17385b",
   "metadata": {},
   "source": [
    "또는 밑 코드처럼 새로운 열을 만드는데에도 활용됩니다.\n",
    "\n",
    "\n",
    "'고객명생일' 열을 새로 생성하고, 셀 값으로 그 행에 맞는 값을 지정할 수 있습니다."
   ]
  },
  {
   "cell_type": "code",
   "execution_count": null,
   "id": "1ea0fd48-9a3a-40db-86fb-96b607d68189",
   "metadata": {},
   "outputs": [],
   "source": [
    "#고객명+생일로 열 추가\n",
    "target['고객명생일'] = target['고객명'].str.split(\"_\").str[1] + target['고객명'].str.split(\"_\").str[2]\n",
    "target[['주문일자', '고객명','고객명생일', '주문유형']].head(10)"
   ]
  },
  {
   "cell_type": "markdown",
   "id": "7cca13f6-28e6-4eec-aa7a-dff2d1e9faea",
   "metadata": {},
   "source": [
    "0번과 1번 행이 고객명이 부정확하여 고객명생일이 NaN으로 입력되어 있는데, split에 실패하여 발생한 현상입니다. 보통 고객명에도 업체명이 들어가있거나, 이름만 들어가있는 경우에 NaN이 입력되어 있었습니다.\n",
    "- None : 처음부터 빈 셀을 의미\n",
    "- NaN : 계산 과정에서 잘못된 입력을 받았음을 의미\n",
    "\n",
    "\n",
    "둘 다 분류과정에서는 제외되어야 하기 때문에, 통일성을 위해 아래에서 NaN을 None으로 전부 변경했습니다."
   ]
  },
  {
   "cell_type": "code",
   "execution_count": null,
   "id": "0727d43c-66b7-478a-9a7d-994070e8647b",
   "metadata": {},
   "outputs": [],
   "source": [
    "target = target.replace({np.nan: None})\n",
    "person_list = target['고객명생일']\n",
    "target[['주문일자', '고객명','고객명생일', '주문유형']].head(10)"
   ]
  },
  {
   "cell_type": "markdown",
   "id": "f72704ba-f2d7-4959-9ebb-69f3dfb58711",
   "metadata": {},
   "source": [
    "이제 for 반복문을 돌리기 위해 None을 제외한 '고객명생일' 항목을 리스트로 새로 만들어줍니다. 여기서 방금 None(혹은 NaN) 항목은 제외되어야 하므로, 밑 코드에서 None 항목을 제외합니다.\n",
    "\n",
    "동일인은 1번만 있으면 되기 때문에 중복 항목도 제외하겠습니다."
   ]
  },
  {
   "cell_type": "code",
   "execution_count": null,
   "id": "78182535-ba2e-468a-80e8-4507f2761bd2",
   "metadata": {},
   "outputs": [],
   "source": [
    "# 고객명생일 형식 아닌거 지우기 (재단명, Null값은 여기서 삭제됨)\n",
    "person_list = list(filter(None,person_list))\n",
    "print(person_list)\n",
    "\n",
    "#중복제거\n",
    "person_list = list(dict.fromkeys(person_list))\n",
    "print(person_list)"
   ]
  },
  {
   "cell_type": "markdown",
   "id": "dd5e7743-32bc-499a-ad1d-98395265444f",
   "metadata": {},
   "source": [
    "## 5. 분류 시작\n",
    "* for p in person_list:\n",
    "  - p에는 고객명 생일이 들어갑니다. (윤용권720403, 권태질360730으로 총 2번 실행)\n",
    "* for i in target.loc[target['고객명생일'].str.contains(p, na=False, regex=False)]['주문유형'].tolist():\n",
    "  - #### i에는 해당하는 행의 '주문유형'이 입력되어 있습니다. \n",
    "  - p가 '윤용권720403' 일 경우\n",
    "    - 전체 항목에서 고객명생일이 '윤용권720403'인 행의 주문유형을 모두 가져옵니다.\n",
    "    - 1가지 항목만 있고, ZZA 항목이기 때문에 value는 1이 됩니다.\n",
    "    - if value >= 1: 항목에 통과했지만 for i in range(value-1): 에서는 반복할 필요가 없기 때문에 삭제되는것 없이 결과에 추가됩니다.\n",
    "  - p가 '권태질360730' 일 경우\n",
    "    - 전체 항목에서 고객명생일이 '권태질360730'인 행의 주문유형을 모두 가져옵니다.\n",
    "    - 3가지 항목이 있고, ZZA 항목은 2개, ZZB 항목은 1개이기 때문에 value는 1이 됩니다. (+2, -1)\n",
    "    - if value >= 1:을 통과했습니다.\n",
    "    - tmp_df = target.loc[target['고객명생일'].str.contains(p, na=False, regex=False) & target['주문유형'].str.contains('YKB2-ZZA', na=False, regex=False),:]\n",
    "      - 중복된 ZZA 항목 삭제를 위해 고객명생일이 '권태질360730'인 전체 데이터에서 'YKB2-ZZA'인 행들만 가져옵니다.\n",
    "    - for i in range(value-1):\n",
    "      - ZZA는 2개이므로, 1번 실행되게 됩니다.\n",
    "      - tmp_df = tmp_df.drop(tmp_df.index[0])\n",
    "        - 맨 위에 있는 항목이 제일 오래된 항목이므로, 하나만 남을때까지 상단에 위치한 데이터를 하나씩 삭제합니다."
   ]
  },
  {
   "cell_type": "code",
   "execution_count": null,
   "id": "168a2667-5381-4c54-ad55-849c7d2a3aed",
   "metadata": {},
   "outputs": [],
   "source": [
    "print(\"[정보] 분류를 시작합니다\")\n",
    "i = 0\n",
    "value = 0\n",
    "arr_df = []\n",
    "\n",
    "for p in person_list:\n",
    "    value = 0\n",
    "    for i in target.loc[target['고객명생일'].str.contains(p, na=False, regex=False)]['주문유형'].tolist(): \n",
    "        if i == 'YKKR-ZFM': #설치 후 고장\n",
    "            value -= 1\n",
    "        elif i == 'YKA1-ZZB': #단순변심\n",
    "            value -= 1\n",
    "        elif i == 'YKB2-ZZA': #설치계약\n",
    "            value += 1\n",
    "        # 1일 경우 일단 설치계약 된걸로 이것만 가져가면 됨!\n",
    "        # 0과 같거나 보다 작을경우 설치되지 않았으니 걸러야함!\n",
    "        # 1보다 클 경우 중복주문 된거니 마지막에 주문된걸 살리고 상단에 있는 주문을 걸러야함!\n",
    "    \n",
    "    if value >= 1:\n",
    "        tmp_df = target.loc[target['고객명생일'].str.contains(p, na=False, regex=False) & target['주문유형'].str.contains('YKB2-ZZA', na=False, regex=False),:]\n",
    "        value = len(tmp_df)\n",
    "        for i in range(value-1):\n",
    "            print(\"[정보]\", p, \"님의 일부 데이터를 삭제합니다.\")\n",
    "            tmp_df = tmp_df.drop(tmp_df.index[0]) # 맨 위에것만 지우면 가장 최신(마지막)인 맨 밑에만 남을테니 0번 인덱스 삭제\n",
    "        arr_df.append(tmp_df)\n",
    "\n",
    "output_target = pd.concat(arr_df)\n"
   ]
  },
  {
   "cell_type": "code",
   "execution_count": null,
   "id": "9c757762-91ee-4d4e-8650-6ce2fe64ba6e",
   "metadata": {},
   "outputs": [],
   "source": [
    "output_target = output_target.sort_index()"
   ]
  },
  {
   "cell_type": "markdown",
   "id": "c8a47656-f7d7-4279-b44e-2162fc61a39e",
   "metadata": {},
   "source": [
    "## 6. 저장\n",
    "pandas 타입의 객체에서 .to_excel() 함수를 통해 작업이 완료된 판다스 객체를 엑셀파일로 만들어냅니다.   \n",
    "index=False는 맨 앞 인덱스 번호를 제외하고 파일로 출력하는것을 의미합니다."
   ]
  },
  {
   "cell_type": "code",
   "execution_count": null,
   "id": "419f185b-3e30-473e-95a9-8428bfe940fb",
   "metadata": {},
   "outputs": [],
   "source": [
    "output_target.to_excel(\"output.xlsx\", engine=\"openpyxl\", index=False)\n",
    "input(\"[정보] output.xlsx 파일을 확인해주세요. (Enter키를 누르거나 상단의 X를 눌러 닫으실 수 있습니다)\")"
   ]
  },
  {
   "cell_type": "code",
   "execution_count": null,
   "id": "f79cd3f2-0cf9-4fa8-80fc-92e3e9b6223b",
   "metadata": {},
   "outputs": [],
   "source": []
  },
  {
   "cell_type": "code",
   "execution_count": null,
   "id": "4e9c1182-beae-42fb-843f-cf3a1a8c595a",
   "metadata": {},
   "outputs": [],
   "source": []
  },
  {
   "cell_type": "code",
   "execution_count": null,
   "id": "8afa2474-c3a4-4c43-9d12-57f751a1c34f",
   "metadata": {},
   "outputs": [],
   "source": []
  },
  {
   "cell_type": "code",
   "execution_count": null,
   "id": "95526c4b-bd15-42fd-9511-f2ec421a7721",
   "metadata": {},
   "outputs": [],
   "source": []
  }
 ],
 "metadata": {
  "kernelspec": {
   "display_name": "Python 3 (ipykernel)",
   "language": "python",
   "name": "python3"
  },
  "language_info": {
   "codemirror_mode": {
    "name": "ipython",
    "version": 3
   },
   "file_extension": ".py",
   "mimetype": "text/x-python",
   "name": "python",
   "nbconvert_exporter": "python",
   "pygments_lexer": "ipython3",
   "version": "3.12.6"
  }
 },
 "nbformat": 4,
 "nbformat_minor": 5
}
