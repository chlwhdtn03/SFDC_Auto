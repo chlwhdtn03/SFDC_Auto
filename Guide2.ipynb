{
 "cells": [
  {
   "cell_type": "markdown",
   "id": "b788b5b6-8577-44f3-9c3c-7439268a4f6c",
   "metadata": {},
   "source": [
    "## 파이썬으로 엑셀 다루기\n",
    "### 1. 파이썬 기본 문법\n",
    "- 변수\n",
    "- 변수 타입\n",
    "- 변수 선언, print\n",
    "- 사칙연산\n",
    "- 리스트(배열)\n",
    "### 3. import를 통한 라이브러리 불러오기\n",
    "### 4. pandas의 기본적인 사용법\n",
    "### 5. **주문번호 정리**해보기\n"
   ]
  },
  {
   "cell_type": "markdown",
   "id": "1d79f419-af18-4078-bdad-7fc112aef83a",
   "metadata": {},
   "source": [
    "---"
   ]
  },
  {
   "cell_type": "markdown",
   "id": "83a95d76-5bb5-49ff-abc7-4fd5f3cdba44",
   "metadata": {},
   "source": [
    "## 변수\n",
    "* 변수는 **어떤 값**을 저장할 수 있는 공간을 의미합니다.\n",
    "* 변수의 '**이름**'과 '**저장할 값**'은 <u>프로그래밍 언어가 제한하지 않는 선</u>에서 마음대로 지정이 가능합니다.\n",
    "\n",
    "if, elif, try, execpt 처럼 언어에 사용하고 있는 단어들을 **예약어**라고 하는데 변수의 이름을 예약어와 동일하게 지어줄 수 없습니다.   \n",
    "파이썬의 대한 예약어는 https://www.programiz.com/python-programming/keyword-list"
   ]
  },
  {
   "cell_type": "code",
   "execution_count": 1,
   "id": "053adf82-7025-4198-acc9-c10bc0e37bf9",
   "metadata": {},
   "outputs": [],
   "source": [
    "n = 10"
   ]
  },
  {
   "cell_type": "markdown",
   "id": "a322654c-a1f5-4106-bd21-7cae33fd34f1",
   "metadata": {},
   "source": [
    "위 코드를 실행하면, n이라는 변수를 선언했다고 할 수 있고, 값에 숫자 10을 넣어주었으니 10으로 초기화 했다고 말할 수 있습니다.\n",
    "\n",
    "#### **등호를 기준으로, 왼쪽이 '(저장할 값의 별명)변수 이름', 오른쪽이 '저장할 값'으로 생각해 주시면 됩니다.**\n",
    "\n",
    "n의 값을 불러오고 싶으면 아래처럼 입력해주면 됩니다."
   ]
  },
  {
   "cell_type": "code",
   "execution_count": 2,
   "id": "12365883-a0a0-4cde-917a-083f90c45dce",
   "metadata": {},
   "outputs": [
    {
     "data": {
      "text/plain": [
       "10"
      ]
     },
     "execution_count": 2,
     "metadata": {},
     "output_type": "execute_result"
    }
   ],
   "source": [
    "n"
   ]
  },
  {
   "cell_type": "markdown",
   "id": "c56014c5-0d17-429b-a44f-2da322db8f3f",
   "metadata": {},
   "source": [
    "#### 이제 저 4가지 변수 타입들을 한번씩 선언 및 초기화 해보겠습니다."
   ]
  },
  {
   "cell_type": "code",
   "execution_count": 36,
   "id": "7d64e241-67cb-47fd-a4b2-e6c9fc672c9e",
   "metadata": {},
   "outputs": [
    {
     "data": {
      "text/plain": [
       "1255"
      ]
     },
     "execution_count": 36,
     "metadata": {},
     "output_type": "execute_result"
    }
   ],
   "source": [
    "number = 1255\n",
    "number"
   ]
  },
  {
   "cell_type": "code",
   "execution_count": 37,
   "id": "68d0fb53-9b21-4eb6-9004-6d1c595ec43f",
   "metadata": {},
   "outputs": [
    {
     "data": {
      "text/plain": [
       "'해바라기 꽃'"
      ]
     },
     "execution_count": 37,
     "metadata": {},
     "output_type": "execute_result"
    }
   ],
   "source": [
    "flower = \"해바라기 꽃\"\n",
    "flower"
   ]
  },
  {
   "cell_type": "code",
   "execution_count": 38,
   "id": "2861db16-d18f-4b0d-8ad2-4d3ca5c62281",
   "metadata": {},
   "outputs": [
    {
     "data": {
      "text/plain": [
       "75.5"
      ]
     },
     "execution_count": 38,
     "metadata": {},
     "output_type": "execute_result"
    }
   ],
   "source": [
    "percentage = 75.5\n",
    "percentage"
   ]
  },
  {
   "cell_type": "code",
   "execution_count": 39,
   "id": "ac265bd6-f785-4250-8eb5-65fd7b854317",
   "metadata": {},
   "outputs": [
    {
     "data": {
      "text/plain": [
       "['강남역', '선릉역', '강변역']"
      ]
     },
     "execution_count": 39,
     "metadata": {},
     "output_type": "execute_result"
    }
   ],
   "source": [
    "line2 = ['강남역', '선릉역', '강변역']\n",
    "line2"
   ]
  },
  {
   "cell_type": "code",
   "execution_count": 40,
   "id": "d8779a1a-979f-4b6a-9cb5-6033d8974dcb",
   "metadata": {},
   "outputs": [
    {
     "data": {
      "text/plain": [
       "[23, 56, 66, 97]"
      ]
     },
     "execution_count": 40,
     "metadata": {},
     "output_type": "execute_result"
    }
   ],
   "source": [
    "score = [23, 56, 66, 97]\n",
    "score"
   ]
  },
  {
   "cell_type": "markdown",
   "id": "68d78942-66c2-4d34-aad4-31a67d7ae766",
   "metadata": {},
   "source": [
    "#### number = 1255\n",
    "* number라는 변수에 숫자 1255를 저장했습니다. number의 타입은 **int**입니다.\n",
    "\n",
    "#### flower = \"해바라기 꽃\"\n",
    "* flower라는 변수에 \"해바라기 꽃\"을 저장했습니다. flower의 타입은 **str**. 문자열이라고 부릅니다.\n",
    "* **문자열을 변수에 넣으실 때는 양쪽에 \" 를 붙여주셔야 합니다! ( ' 도 사용이 가능합니다.)**\n",
    "  * 변수명과 혼용될수도 있고, 띄어쓰기가 포함될 수 있기 때문입니다.\n",
    "    * 모든 프로그래밍 언어에서 **대소문자, 띄어쓰기**의 잘못된 표기는 에러를 발생시킵니다!\n",
    "   \n",
    "#### percentage = 75.5\n",
    "* percentage라는 변수에 소수인 75.5를 저장했습니다. percentage의 타입은 **float**입니다.\n",
    "* float은 소수점까지 저장할 수 있으니 int는 필요 없다고 생각할 수 있지만, **<u>float은 사용하다보면 미세하게 오차가 발생하기 때문에</u>**, 소수점이 필요한게 아니라면 사용하지 않습니다.\n",
    "\n",
    "\n",
    "#### line2 == ['강남역', '선릉역', '강변역']\n",
    "* line2라는 변수에 3가지 **str**을 저장했습니다. 이런 형식을 리스트 또는 배열이라고 부릅니다.\n",
    "  \n",
    "    - 이렇게 저장했을 변수를 리스트로 한번에 저장할 수 있습니다.\n",
    "        - line2_gang = '강남역'\n",
    "        - line2_sun = '선릉역'\n",
    "        - line2_byeon = '강변역'\n",
    "#### score = [23, 56, 66, 97]\n",
    "* score라는 변수에 int 타입의 23, 56, 66, 97를 저장했습니다. int가 4개 들어가 리스트입니다.\n",
    "\n",
    "---\n",
    "## print()\n",
    "* print라는 **함수**를 통해 변수의 값이나, 문자열을 출력할 수 있습니다.    \n",
    "* print를 사용해야 실제 프로그램을 실행했을때, print()에 넣어둔 변수가 출력됩니다.   \n",
    "* jupyter notebook에서는 마지막 줄의 결과를 기본적으로 출력해주기 때문에, **print를 사용하지 않으면 실제 프로그램에서는 보이지 않습니다.**"
   ]
  },
  {
   "cell_type": "code",
   "execution_count": 41,
   "id": "426ea636-681f-420a-8630-f38327fcfb63",
   "metadata": {
    "scrolled": true
   },
   "outputs": [
    {
     "name": "stdout",
     "output_type": "stream",
     "text": [
      "안녕하세요\n"
     ]
    }
   ],
   "source": [
    "print(\"안녕하세요\")"
   ]
  },
  {
   "cell_type": "code",
   "execution_count": 42,
   "id": "9af0ed92-5892-4451-ad1a-e15dd8c5f21a",
   "metadata": {
    "scrolled": true
   },
   "outputs": [
    {
     "name": "stdout",
     "output_type": "stream",
     "text": [
      "1255\n",
      "해바라기 꽃\n",
      "75.5 %\n",
      "2호선 : ['강남역', '선릉역', '강변역']\n",
      "점수 : [23, 56, 66, 97]\n",
      "print()에서는 ','를 사용해서 이어붙일 수 있습니다.\n"
     ]
    }
   ],
   "source": [
    "print(number)\n",
    "print(flower)\n",
    "print(percentage, \"%\")\n",
    "print(\"2호선 :\", line2)\n",
    "print(\"점수 :\", score)\n",
    "print(\"print()에서는\", \"','를 사용해서 이어붙일 수 있습니다.\")"
   ]
  },
  {
   "cell_type": "markdown",
   "id": "074bff93-65ac-460c-8283-e1c7e203cb11",
   "metadata": {},
   "source": [
    "#### 등호를 기준으로 오른쪽에서 왼쪽으로 흘러간다고 생각하시면 됩니다!"
   ]
  },
  {
   "cell_type": "code",
   "execution_count": 10,
   "id": "30cfd771-ea7b-4efc-a1dc-fe8f3d367b48",
   "metadata": {},
   "outputs": [
    {
     "name": "stdout",
     "output_type": "stream",
     "text": [
      "13\n"
     ]
    }
   ],
   "source": [
    "number = 5 + 2 * 4\n",
    "print(number)"
   ]
  },
  {
   "cell_type": "code",
   "execution_count": 11,
   "id": "a61b57cc-195e-4521-beaa-48c27c7e82c3",
   "metadata": {},
   "outputs": [
    {
     "name": "stdout",
     "output_type": "stream",
     "text": [
      "26\n"
     ]
    }
   ],
   "source": [
    "print(number * 2)"
   ]
  },
  {
   "cell_type": "markdown",
   "id": "317253d6-4004-4d70-8ca6-8bc2b0da5f0b",
   "metadata": {},
   "source": [
    "위에서의 계산은 number에 26이 저장된게 아닌, 13 * 2를 했기 때문에, number / 2는 동일하게 13 / 2가 됩니다."
   ]
  },
  {
   "cell_type": "code",
   "execution_count": 12,
   "id": "87925423-0ea2-4014-a925-66af09327dfd",
   "metadata": {
    "scrolled": true
   },
   "outputs": [
    {
     "name": "stdout",
     "output_type": "stream",
     "text": [
      "6.5\n"
     ]
    }
   ],
   "source": [
    "print(number / 2)"
   ]
  },
  {
   "cell_type": "markdown",
   "id": "be8c62cd-b570-4130-8b65-7ba92c69c3f6",
   "metadata": {},
   "source": [
    "---\n",
    "### 리스트 활용\n",
    "\n",
    "**코딩에서 배열과 리스트를 사용할 때, 모든 첫번째 항목은 <u>0번</u>부터 시작합니다!**\n",
    "<img src='https://encrypted-tbn0.gstatic.com/images?q=tbn:ANd9GcT9BHiLPsGbY4VYZt9FQKHvXFbdEYBLEVPTlw&s'/>\n",
    "\n",
    "리스트(혹은 배열)은 대괄호([n])를 통해 각각의 항목에 접근할 수 있습니다. (n번 인덱스라고도 부름)\n"
   ]
  },
  {
   "cell_type": "code",
   "execution_count": 13,
   "id": "17c25e2f-ce58-4d62-b96c-06245e3ed763",
   "metadata": {
    "scrolled": true
   },
   "outputs": [
    {
     "name": "stdout",
     "output_type": "stream",
     "text": [
      "전체 항목 : ['강남역', '선릉역', '강변역']\n",
      "1번째 항목 : 선릉역\n"
     ]
    }
   ],
   "source": [
    "print('전체 항목 :', line2)\n",
    "print('1번째 항목 :', line2[1])"
   ]
  },
  {
   "cell_type": "markdown",
   "id": "566c9091-a3d3-49d9-ba04-54e4c36a6097",
   "metadata": {},
   "source": [
    "일반적인 상황에서 첫번째 항목은 '강남역'이지만, 코딩에서는 첫번째 항목은 0번이 됩니다."
   ]
  },
  {
   "cell_type": "code",
   "execution_count": 14,
   "id": "6230f24f-eb7d-4b58-a2be-ef4d174d80ff",
   "metadata": {},
   "outputs": [
    {
     "name": "stdout",
     "output_type": "stream",
     "text": [
      "전체 항목 : ['강남역', '선릉역', '강변역']\n",
      "0번째 항목 : 강남역\n",
      "1번째 항목 : 선릉역\n",
      "2번째 항목 : 강변역\n"
     ]
    }
   ],
   "source": [
    "print('전체 항목 :', line2)\n",
    "print('0번째 항목 :', line2[0])\n",
    "print('1번째 항목 :', line2[1])\n",
    "print('2번째 항목 :', line2[2])"
   ]
  },
  {
   "cell_type": "markdown",
   "id": "3d37df3a-79ae-47fb-9578-8c5998db0f8f",
   "metadata": {},
   "source": [
    "파이썬에서는 -1번째 항목도 존재하는데, 이는 리스트의 맨 마지막 항목을 의미합니다."
   ]
  },
  {
   "cell_type": "code",
   "execution_count": 15,
   "id": "84d3eb3e-e56f-49f7-884a-86598a4d875e",
   "metadata": {},
   "outputs": [
    {
     "name": "stdout",
     "output_type": "stream",
     "text": [
      "-1번째 항목 : 강변역\n"
     ]
    }
   ],
   "source": [
    "print('-1번째 항목 :', line2[-1])"
   ]
  },
  {
   "cell_type": "markdown",
   "id": "d252032c-5acc-4a3a-bb73-04ba712925db",
   "metadata": {},
   "source": [
    "이미 리스트에 입력된 값도 변경이 가능합니다."
   ]
  },
  {
   "cell_type": "code",
   "execution_count": 16,
   "id": "a9003360-26c4-4851-a133-826ee7ffc4ca",
   "metadata": {},
   "outputs": [
    {
     "name": "stdout",
     "output_type": "stream",
     "text": [
      "['강남역', '신촌역', '강변역']\n"
     ]
    }
   ],
   "source": [
    "line2[1] = '신촌역'\n",
    "print(line2)"
   ]
  },
  {
   "cell_type": "markdown",
   "id": "cb0d5027-4bcf-429b-9f80-baf1d65bc6d7",
   "metadata": {},
   "source": [
    "---\n",
    "### 리스트 & for & range\n",
    "for문은 대부분의 언어에서 동일한 코드를 여러번 실행할 수 있는 반복문으로 쓰이고 있습니다.\n",
    "\n",
    "for [변수명] in [리스트]:\n",
    "코드를 사용하면 [변수명]에 [리스트]의 항목들이 하나씩 들어가서 항목 수 만큼 반복하게 됩니다. \n",
    "\n",
    "\n",
    "기존 방식으로 리스트의 모든 항목을 출력한다면 밑에처럼 사용할 수 있겠지만, 리스트의 양이 많아지면 전부 출력하기 힘들 수 있습니다."
   ]
  },
  {
   "cell_type": "code",
   "execution_count": 17,
   "id": "38bdeb26-600f-4e64-ae32-120a3f3085b4",
   "metadata": {},
   "outputs": [
    {
     "name": "stdout",
     "output_type": "stream",
     "text": [
      "배열 크기 : 3\n",
      "강남역\n",
      "신촌역\n",
      "강변역\n"
     ]
    }
   ],
   "source": [
    "print('배열 크기 :', len(line2))\n",
    "print(line2[0])\n",
    "print(line2[1])\n",
    "print(line2[2])"
   ]
  },
  {
   "cell_type": "code",
   "execution_count": 18,
   "id": "7d0406da-1c8f-4ca0-b989-83ac2701dd02",
   "metadata": {},
   "outputs": [
    {
     "name": "stdout",
     "output_type": "stream",
     "text": [
      "2호선 항목 : ['강남역', '신촌역', '강변역']\n",
      "강남역\n",
      "신촌역\n",
      "강변역\n"
     ]
    }
   ],
   "source": [
    "print(\"2호선 항목 :\", line2)\n",
    "for item in line2:\n",
    "    print(item)"
   ]
  },
  {
   "cell_type": "markdown",
   "id": "6bee0732-754b-4199-afdd-0e98ee2ef508",
   "metadata": {},
   "source": [
    "range(n)를 사용하여 for문을 n만큼 반복하게 만들 수도 있습니다.   \n",
    "range(n)은 0~n-1까지 생성되며, for문 변수에 저장됩니다."
   ]
  },
  {
   "cell_type": "code",
   "execution_count": 19,
   "id": "bb3910bc-3d4b-4cbf-aff2-d428d2224e47",
   "metadata": {},
   "outputs": [
    {
     "name": "stdout",
     "output_type": "stream",
     "text": [
      "0\n",
      "1\n",
      "2\n",
      "3\n",
      "4\n"
     ]
    }
   ],
   "source": [
    "for i in range(5):\n",
    "    print(i)"
   ]
  },
  {
   "cell_type": "markdown",
   "id": "dba1e13c-1576-4c0b-b904-925833cbd92d",
   "metadata": {},
   "source": [
    "len(리스트 변수)로 해당 리스트에 몇개의 항목이 들어있는지 확인할 수 있습니다."
   ]
  },
  {
   "cell_type": "code",
   "execution_count": 20,
   "id": "b5d29655-211a-4ace-ba84-62413b1cad14",
   "metadata": {},
   "outputs": [
    {
     "name": "stdout",
     "output_type": "stream",
     "text": [
      "len(line2) : 3\n",
      "range(len(line2)) : range(0, 3)\n",
      "강남역\n",
      "신촌역\n",
      "강변역\n"
     ]
    }
   ],
   "source": [
    "print(\"len(line2) : %d\" % len(line2))\n",
    "print(\"range(len(line2)) :\", range(len(line2)))\n",
    "for i in range(len(line2)):\n",
    "    print(line2[i])"
   ]
  }
 ],
 "metadata": {
  "kernelspec": {
   "display_name": "Python 3 (ipykernel)",
   "language": "python",
   "name": "python3"
  },
  "language_info": {
   "codemirror_mode": {
    "name": "ipython",
    "version": 3
   },
   "file_extension": ".py",
   "mimetype": "text/x-python",
   "name": "python",
   "nbconvert_exporter": "python",
   "pygments_lexer": "ipython3",
   "version": "3.12.6"
  }
 },
 "nbformat": 4,
 "nbformat_minor": 5
}
